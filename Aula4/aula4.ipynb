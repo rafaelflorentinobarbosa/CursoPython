{
 "cells": [
  {
   "cell_type": "code",
   "execution_count": 3,
   "metadata": {},
   "outputs": [],
   "source": [
    "# Divisões, resto, Exponenciação\n",
    "\n",
    "n1 = input(\"Digite o primeiro número: \")\n",
    "n2 = input(\"Digite o segundo número: \")\n",
    "\n",
    "# Convertendo as entradas para inteiro\n",
    "n1 = int(n1)\n",
    "n2 = int(n2)\n",
    "\n",
    "divisao_inteira = n1 // n2\n",
    "divisao = n1 / n2\n",
    "resto = n1 % n2\n",
    "expo = n1 ** n2\n",
    "\n",
    "print(f'Divisão inteira: {divisao_inteira}')\n",
    "print(f'Divisão normal: {divisao}')\n",
    "print(f'Resto : {resto}')\n",
    "print(f'Exponenciação : {resto}')\n"
   ]
  },
  {
   "cell_type": "code",
   "execution_count": null,
   "metadata": {},
   "outputs": [],
   "source": [
    "# Atribuição subtração\n",
    "valor = 10\n",
    "valor -= 10\n",
    "print(f'Resultado de atribuição de subtração  : {valor}')\n",
    "\n",
    "# Atribuição Soma \n",
    "valor = 10\n",
    "valor += 10\n",
    "print(f'Resultado de atribuição de soma  : {valor}')\n",
    "\n",
    "# Atribuição multiplicação \n",
    "valor = 10\n",
    "valor *= 10\n",
    "print(f'Resultado de atribuição de multiplicação  : {valor}')\n",
    "\n",
    "# Atribuição Divisão \n",
    "valor = 10\n",
    "valor /= 10\n",
    "print(f'Resultado de atribuição de divisão  :  {valor}')\n",
    "\n",
    "# Atribuição Divisão Inteira\n",
    "valor = 10\n",
    "valor //= 10\n",
    "print(f'Resultado de atribuição de divisão inteira : {valor}')\n",
    "\n",
    "# Atribuição de modulo\n",
    "valor = 10\n",
    "valor %= 10\n",
    "print(f'Resultado de atribuição de modulo  : {valor}')\n"
   ]
  },
  {
   "cell_type": "markdown",
   "metadata": {},
   "source": [
    "## Atividade\n",
    "- Crie um programa para o boletim de notas do aluno. Guarde o nome do aluno, as notas e calcule, as notas e calcule a media final do aluno.\n",
    "- Disciplinas:\n",
    "  - Matemática\n",
    "  - Português\n",
    "  - Geografia\n",
    "  - Historia\n",
    "  - Física\n",
    "\n",
    "- Ao obter as notas e a média das notas, imprima o boletim do aluno informando as notas das materias e com quanto ele ficou de média."
   ]
  },
  {
   "cell_type": "code",
   "execution_count": 8,
   "metadata": {},
   "outputs": [
    {
     "name": "stdout",
     "output_type": "stream",
     "text": [
      "Aluno: rafael \n",
      "Media Final: 9.2\n",
      "\n",
      " - - - - - - - - - - - - - - - - - - - - - - - - - - - - - -  Boletim do Aluno  - - - - - - - - - - - - - - - - - - - - - - - - - - - - - - \n",
      "\n",
      "Nome: rafael \n",
      "Matematica: 9.0 \n",
      "Portugues: 10.0 \n",
      "Geografia: 9.0 \n",
      "Historia: 8.0  \n",
      "Fisica: 10.0 \n",
      "Media Final: 9.2\n"
     ]
    }
   ],
   "source": [
    "nome = input(\"Digite o nome do aluno: \")\n",
    "\n",
    "notaMatematica = input(\"Digite a nota de Matemática: \")\n",
    "notaMatematica = float(notaMatematica)\n",
    "\n",
    "notaPortugues = input(\"Digite a nota de Português: \")\n",
    "notaPortugues = float(notaPortugues)\n",
    "\n",
    "notaGeografia = input(\"Digite a nota de Geografia: \")\n",
    "notaGeografia = float(notaGeografia)\n",
    "\n",
    "notaHistoria = input(\"Digite a nota de História: \")\n",
    "notaHistoria = float(notaHistoria)\n",
    "\n",
    "notaFisica = input(\"Digite a nota de Física: \")\n",
    "notaFisica = float(notaFisica)\n",
    "\n",
    "# Calcular a média \n",
    "media = (notaMatematica+notaPortugues+notaGeografia+notaHistoria+notaFisica) / 5\n",
    "\n",
    "print(f\"Aluno: {nome} \\nMédia Final: {media}\")\n",
    "\n",
    "# Mostrar Boletim do Aluno e as medias das materias\n",
    "print(\"\\n\",30*\"- \", \"Boletim do Aluno \",30*\"- \")\n",
    "print(f'\\nNome: {nome} \\nMatemática: {notaMatematica} \\nPortuguês: {notaPortugues} \\nGeografia: {notaGeografia} \\nHistória: {notaHistoria}  \\nFísica: {notaFisica} \\nMédia Final: {media}')\n"
   ]
  },
  {
   "cell_type": "markdown",
   "metadata": {},
   "source": [
    "# git branch novaBranch\n",
    "- Cria uma nova branch\n",
    "\n",
    "# git branch\n",
    "- Mostrar todas as branches\n",
    "\n",
    "# git checkout novaBranch\n",
    "- entra na branch novaBranch"
   ]
  }
 ],
 "metadata": {
  "kernelspec": {
   "display_name": ".venv",
   "language": "python",
   "name": "python3"
  },
  "language_info": {
   "codemirror_mode": {
    "name": "ipython",
    "version": 3
   },
   "file_extension": ".py",
   "mimetype": "text/x-python",
   "name": "python",
   "nbconvert_exporter": "python",
   "pygments_lexer": "ipython3",
   "version": "3.12.4"
  }
 },
 "nbformat": 4,
 "nbformat_minor": 2
}
