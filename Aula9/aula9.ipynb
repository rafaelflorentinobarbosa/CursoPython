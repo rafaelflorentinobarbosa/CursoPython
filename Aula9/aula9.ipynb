{
 "cells": [
  {
   "cell_type": "markdown",
   "metadata": {},
   "source": [
    "# Listas\n",
    "    - Declarando uma lista\n",
    "    - Manipulação de lista"
   ]
  },
  {
   "cell_type": "code",
   "execution_count": 11,
   "metadata": {},
   "outputs": [
    {
     "name": "stdout",
     "output_type": "stream",
     "text": [
      "O primeiro nome é gomes\n",
      "O último elemento é: lucas\n",
      "['gomes', 'oliveira', 'josé', 'pedro', 'maria', 'joão', 'lucas']\n",
      "['oliveira', 'josé', 'pedro', 'maria', 'joão', 'lucas']\n"
     ]
    }
   ],
   "source": [
    "nomes = ['gomes', 'oliveira','lucas', 'josé', 'pedro', 'maria', 'joão','lucas']\n",
    "\n",
    "# Retorne o primeiro elemento da lista\n",
    "print(f'O primeiro nome é {nomes[0]}')\n",
    "\n",
    "# Retorne o ultimo elemento da lista\n",
    "print(f'O último elemento é: {nomes[-1]}')\n",
    "\n",
    "# Remova um item da lista com REMOVE\n",
    "nomes.remove('lucas')\n",
    "print(nomes)\n",
    "\n",
    "# Remova um item da lista com POP\n",
    "nomes.pop(0)\n",
    "print(nomes)\n",
    "\n",
    "\n"
   ]
  },
  {
   "cell_type": "code",
   "execution_count": 10,
   "metadata": {},
   "outputs": [
    {
     "name": "stdout",
     "output_type": "stream",
     "text": [
      "['gomes', 'oliveira', 'pedro', 'maria', 'joão', 'lucas']\n",
      "['gomes', 'oliveira', 'pedro', 'maria']\n"
     ]
    }
   ],
   "source": [
    "nomes = ['gomes', 'oliveira','lucas', 'josé', 'pedro', 'maria', 'joão','lucas']\n",
    "\n",
    "# Removendo uma lista usando DEL \n",
    "del nomes[2:4] # intervalo, apaga o 2(lucas) e o 3(josé)\n",
    "print(nomes)\n",
    "\n",
    "print(nomes[:4])"
   ]
  },
  {
   "cell_type": "code",
   "execution_count": 12,
   "metadata": {},
   "outputs": [
    {
     "name": "stdout",
     "output_type": "stream",
     "text": [
      "['gomes', 'oliveira', 'lucas', 'josé', 'pedro', 'maria', 'joão', 'lucas', 'josue']\n",
      "['gomes', 'oliveira', 'Jonas', 'lucas', 'josé', 'pedro', 'maria', 'joão', 'lucas', 'josue']\n"
     ]
    }
   ],
   "source": [
    "nomes = ['gomes', 'oliveira','lucas', 'josé', 'pedro', 'maria', 'joão','lucas']\n",
    "\n",
    "# Adicionar um novo item a lista com append\n",
    "nomes.append('josue')\n",
    "print(nomes)\n",
    "\n",
    "# Adicionar um novo item a lista vom insert\n",
    "nomes.insert(2,'Jonas')\n",
    "print(nomes)"
   ]
  },
  {
   "cell_type": "code",
   "execution_count": null,
   "metadata": {},
   "outputs": [],
   "source": [
    "nomes = ['gomes', 'oliveira','lucas', 'josé', 'pedro', 'maria', 'joão','lucas']\n",
    "\n",
    "for i in range(len(nomes)):\n",
    "    print(f'{i + 1}° nome da lista: {nomes[i]}')\n",
    "\n",
    "# Recebendo novo nome para adicionar a lista\n",
    "novo_nome = input(\"Digite um novo nome a ser adicionado na lista: \")\n",
    "\n",
    "# Recebendo uma posição para adicionar na lista\n",
    "posicao = input('Informe a posição desejada para adicionar o novo nome: ')\n",
    "posicao = int(posicao)\n",
    "\n",
    "# Corrigindo a posição dos indices\n",
    "posicao -=1\n",
    "\n",
    "if posicao >= 0 and posicao <= len(nomes):\n",
    "    nomes.insert(posicao, novo_nome)\n",
    "else:\n",
    "    print('Posição inválida')\n",
    "    \n",
    "print()\n",
    "print(30*\"=\", \"Nova Lista\", 30*\"=\")\n",
    "for i in range(len(nomes)):\n",
    "    print(f'{i + 1}° nome da lista: {nomes[i]}')\n"
   ]
  },
  {
   "cell_type": "code",
   "execution_count": 1,
   "metadata": {},
   "outputs": [
    {
     "name": "stdout",
     "output_type": "stream",
     "text": [
      "['gomes', 'Jeremias', 'lucas', 'josé', 'pedro', 'maria', 'joão', 'lucas']\n"
     ]
    }
   ],
   "source": [
    "nomes = ['gomes', 'oliveira','lucas', 'josé', 'pedro', 'maria', 'joão','lucas']\n",
    "\n",
    "nomes[1] = 'Jeremias'\n",
    "\n",
    "print(nomes)\n",
    "    \n"
   ]
  },
  {
   "cell_type": "code",
   "execution_count": 6,
   "metadata": {},
   "outputs": [
    {
     "name": "stdout",
     "output_type": "stream",
     "text": [
      "Lista desordenada: [5, 2, 8, 9, 20, 7, 4, 3, 10, 1]\n",
      "\n",
      "Lista ordenada: [1, 2, 3, 4, 5, 7, 8, 9, 10, 20]\n",
      "\n",
      "Lista ordenada Decrescente: [20, 10, 9, 8, 7, 5, 4, 3, 2, 1]\n"
     ]
    }
   ],
   "source": [
    "lista1 = [5,2,8,9,20,7,4,3,10,1]\n",
    "\n",
    "# Lista ordenada \n",
    "print(f'Lista desordenada: {lista1}')\n",
    "lista1.sort()\n",
    "print(f'\\nLista ordenada: {lista1}')\n",
    "\n",
    "# Lista ordenada de forma Decrescente\n",
    "lista1.sort(reverse=True)\n",
    "print(f'\\nLista ordenada Decrescente: {lista1}')"
   ]
  }
 ],
 "metadata": {
  "kernelspec": {
   "display_name": ".venv",
   "language": "python",
   "name": "python3"
  },
  "language_info": {
   "codemirror_mode": {
    "name": "ipython",
    "version": 3
   },
   "file_extension": ".py",
   "mimetype": "text/x-python",
   "name": "python",
   "nbconvert_exporter": "python",
   "pygments_lexer": "ipython3",
   "version": "3.12.4"
  }
 },
 "nbformat": 4,
 "nbformat_minor": 2
}
