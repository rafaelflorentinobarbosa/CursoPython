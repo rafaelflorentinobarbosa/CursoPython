{
 "cells": [
  {
   "cell_type": "markdown",
   "metadata": {},
   "source": [
    "mariasueli_2010@hotmail.com"
   ]
  },
  {
   "cell_type": "markdown",
   "metadata": {},
   "source": [
    "## Listas\n",
    "\n",
    "- Declarando uma lista\n",
    "- Manipulação de lista\n",
    "    - Adicionando um novo elemento na lista\n",
    "    - Adicionando elemento em uma posição na lista\n",
    "    - Removendo um elemento da lista\n",
    "    - Mostrando segundo, terceiro e quarto elemento da lista\n",
    "    - Mostrando o ultimo elemento da lista\n",
    "    - Ordenando lista\n",
    "    - Pesquisando dados em uma lista (in, index, count)\n",
    "    - Copiando uma lista"
   ]
  },
  {
   "cell_type": "code",
   "execution_count": 27,
   "metadata": {},
   "outputs": [
    {
     "name": "stdout",
     "output_type": "stream",
     "text": [
      "O primeiro nome é gomes\n",
      "joao\n",
      "['gomes', 'oliveira', 'jose', 'pedro', 'maria', 'joao']\n",
      "['gomes', 'oliveira', 'maria', 'joao']\n"
     ]
    }
   ],
   "source": [
    "nomes = ['gomes', 'oliveira', 'lucas', 'jose', 'pedro', 'maria', 'lucas', 'joao']\n",
    "\n",
    "# Retornando elemento da lista atravez do índice\n",
    "print(f'O primeiro nome é {nomes[0]}')\n",
    "\n",
    "# Retornando o ultimo elemento da lista\n",
    "print(nomes[-1])\n",
    "\n",
    "#Removendo item da lista com remove\n",
    "nomes.remove('lucas')\n",
    "\n",
    "\n",
    "# Removendo item da lista com pop\n",
    "nomes.pop(5)\n",
    "print(nomes)\n",
    "\n"
   ]
  },
  {
   "cell_type": "code",
   "execution_count": 31,
   "metadata": {},
   "outputs": [
    {
     "name": "stdout",
     "output_type": "stream",
     "text": [
      "['gomes', 'oliveira', 'lucas', 'jose', 'pedro', 'maria', 'lucas']\n"
     ]
    }
   ],
   "source": [
    "nomes = ['gomes', 'oliveira', 'lucas', 'jose', 'pedro', 'maria', 'lucas', 'joao']\n",
    "\n",
    "# Removendo item usando Del\n",
    "del nomes[2:4]\n",
    "print(nomes)"
   ]
  },
  {
   "cell_type": "code",
   "execution_count": 36,
   "metadata": {},
   "outputs": [
    {
     "name": "stdout",
     "output_type": "stream",
     "text": [
      "['lucas', 'jose', 'pedro']\n"
     ]
    }
   ],
   "source": [
    "nomes = ['gomes', 'oliveira', 'lucas', 'jose', 'pedro', 'maria', 'lucas', 'joao']\n",
    "\n",
    "# Mostrando elementos atraves do intervalo\n",
    "print(nomes[2:5])"
   ]
  },
  {
   "cell_type": "code",
   "execution_count": 38,
   "metadata": {},
   "outputs": [
    {
     "name": "stdout",
     "output_type": "stream",
     "text": [
      "['gomes', 'oliveira', 'lucas', 'jose', 'pedro', 'maria', 'lucas', 'joao', 'Josue']\n"
     ]
    }
   ],
   "source": [
    "nomes = ['gomes', 'oliveira', 'lucas', 'jose', 'pedro', 'maria', 'lucas', 'joao']\n",
    "\n",
    "# Adicionar um novo item a lista\n",
    "nomes.append('Josue')\n",
    "print(nomes)"
   ]
  },
  {
   "cell_type": "code",
   "execution_count": 39,
   "metadata": {},
   "outputs": [
    {
     "name": "stdout",
     "output_type": "stream",
     "text": [
      "['gomes', 'oliveira', 'Josue', 'lucas', 'jose', 'pedro', 'maria', 'lucas', 'joao']\n"
     ]
    }
   ],
   "source": [
    "nomes = ['gomes', 'oliveira', 'lucas', 'jose', 'pedro', 'maria', 'lucas', 'joao']\n",
    "\n",
    "# Adicionar elemento em uma posição específica\n",
    "nomes.insert(2, 'Josue')\n",
    "print(nomes)"
   ]
  },
  {
   "cell_type": "code",
   "execution_count": 45,
   "metadata": {},
   "outputs": [
    {
     "name": "stdout",
     "output_type": "stream",
     "text": [
      "1° nome da lista: gomes\n",
      "2° nome da lista: oliveira\n",
      "3° nome da lista: lucas\n",
      "4° nome da lista: jose\n",
      "5° nome da lista: pedro\n",
      "6° nome da lista: maria\n",
      "7° nome da lista: lucas\n",
      "8° nome da lista: joao\n",
      "\n",
      "============================== Lista atualizada ==============================\n",
      "1° nome da lista: garoto de programa\n",
      "2° nome da lista: gomes\n",
      "3° nome da lista: oliveira\n",
      "4° nome da lista: lucas\n",
      "5° nome da lista: jose\n",
      "6° nome da lista: pedro\n",
      "7° nome da lista: maria\n",
      "8° nome da lista: lucas\n",
      "9° nome da lista: joao\n"
     ]
    }
   ],
   "source": [
    "nomes = ['gomes', 'oliveira', 'lucas', 'jose', 'pedro', 'maria', 'lucas', 'joao']\n",
    "\n",
    "# Imprimindo a lista ignorando o indice 0\n",
    "for i in range(len(nomes)):\n",
    "    print(f'{i + 1}° nome da lista: {nomes[i]}')\n",
    "\n",
    "# Recebendo novo nome para adicionar na lista\n",
    "novo_nome = input(\"Digite um novo nome a ser adicionado na lista: \")\n",
    "\n",
    "# Recebendo uma posição para adicionar na lista\n",
    "posicao = input('Informe a posição desejada para adicionar o novo nome: ')\n",
    "posicao = int(posicao)\n",
    "\n",
    "# Corrigindo a posição dos índices\n",
    "posicao -= 1\n",
    "\n",
    "if posicao >= 0 and posicao <= len(nomes):\n",
    "    nomes.insert(posicao, novo_nome)\n",
    "else:\n",
    "    print('Posição inválida')\n",
    "\n",
    "print()\n",
    "print(30*'=', 'Lista atualizada', 30*'=')\n",
    "for i in range(len(nomes)):\n",
    "    \n",
    "    print(f'{i + 1}° nome da lista: {nomes[i]}')"
   ]
  },
  {
   "cell_type": "code",
   "execution_count": 48,
   "metadata": {},
   "outputs": [
    {
     "name": "stdout",
     "output_type": "stream",
     "text": [
      "['gomes', 'garoto de programa', 'lucas', 'jose', 'pedro', 'maria', 'lucas', 'joao']\n"
     ]
    }
   ],
   "source": [
    "nomes = ['gomes', 'oliveira', 'lucas', 'jose', 'pedro', 'maria', 'lucas', 'joao']\n",
    "\n",
    "# Substituindo um valor na lista atraves do seu índice\n",
    "nomes[1] = 'garoto de programa'\n",
    "print(nomes)"
   ]
  },
  {
   "cell_type": "code",
   "execution_count": 54,
   "metadata": {},
   "outputs": [
    {
     "name": "stdout",
     "output_type": "stream",
     "text": [
      "Lista desordenada: [10, 9, 8, 7, 6, 5, 4, 3, 2, 1]\n",
      "Lista ordenada: [1, 2, 3, 4, 5, 6, 7, 8, 9, 10]\n"
     ]
    }
   ],
   "source": [
    "lista1 = [10,9,8,7,6,5,4,3,2,1]\n",
    "\n",
    "# Lista ordenada Crescente\n",
    "print(f'Lista desordenada: {lista1}')\n",
    "lista1.sort()\n",
    "print(f'Lista ordenada: {lista1}')\n",
    "\n",
    "# Lista ordenada decrescente"
   ]
  },
  {
   "cell_type": "code",
   "execution_count": 58,
   "metadata": {},
   "outputs": [
    {
     "name": "stdout",
     "output_type": "stream",
     "text": [
      "Lista desordenada: [5, 2, 9, 20, 7, 4, 8, 3, 10, 1]\n",
      "Lista ordenada Decrescente: [20, 10, 9, 8, 7, 5, 4, 3, 2, 1]\n"
     ]
    }
   ],
   "source": [
    "lista = [5,2,9,20,7,4,8,3,10,1]\n",
    "\n",
    "# Lista ordenada Descrescente\n",
    "print(f'Lista desordenada: {lista}')\n",
    "lista.sort(reverse=True)\n",
    "print(f'Lista ordenada Decrescente: {lista}')"
   ]
  },
  {
   "cell_type": "markdown",
   "metadata": {},
   "source": [
    "#### Desafio 01\n",
    "- Crie um programa que realiza a contagem de 1 até 100, usando apenas números ímpares, ao final do processo exiba em tela quantos números ímpares foram emcontrados nesse intervalo, assim como a soma dos mesmos:"
   ]
  },
  {
   "cell_type": "code",
   "execution_count": 3,
   "metadata": {},
   "outputs": [
    {
     "name": "stdout",
     "output_type": "stream",
     "text": [
      "Quantidade de números impares encontrados é: 50\n",
      "Resultado da soma dos numeros impares é: 2500\n"
     ]
    }
   ],
   "source": [
    "soma = 0\n",
    "contagem = 0\n",
    "\n",
    "for i in range(100):\n",
    "    if i % 2!= 0:\n",
    "        contagem += 1\n",
    "        soma += i  \n",
    "print(f'Quantidade de números impares encontrados é: {contagem}')\n",
    "print(f'Resultado da soma dos numeros impares é: {soma}')"
   ]
  },
  {
   "cell_type": "markdown",
   "metadata": {},
   "source": [
    "#### Desafio 02\n",
    "- Crie uma lista de tarefas basica, onde você pode adicionar quantas tarefas você desejar\n",
    "    - Use While\n",
    "    - Use For\n",
    "    - Use if else\n",
    "    - Use os ('cls')"
   ]
  },
  {
   "cell_type": "code",
   "execution_count": 2,
   "metadata": {},
   "outputs": [
    {
     "name": "stdout",
     "output_type": "stream",
     "text": [
      "\n",
      "----- Menu de Opções -----\n",
      "1. Adicionar tarefa\n",
      "2. Listar tarefas\n",
      "3. Remover tarefa\n",
      "4. Sair\n",
      "\n",
      "Fim do programa...\n"
     ]
    }
   ],
   "source": [
    "import os\n",
    "\n",
    "tarefas = []\n",
    "\n",
    "print(30*'=',' Lista de Tarefas ',30*'=')\n",
    "while True:\n",
    "    print('\\n----- Menu de Opções -----')\n",
    "    print('1. Adicionar tarefa')\n",
    "    print('2. Listar tarefas')\n",
    "    print('3. Remover tarefa')\n",
    "    print('4. Sair')\n",
    "    os.system('cls')\n",
    "\n",
    "    opcao = input(\"Digite a opção desejada: \")\n",
    "\n",
    "    if opcao == '1':\n",
    "        while True:\n",
    "            tarefa = input('Digite uma nova tarefa ou aperte enter para voltar: ')\n",
    "            if tarefa == '':\n",
    "                break\n",
    "                os.system('cls')\n",
    "            else:\n",
    "                tarefas.append(tarefa)\n",
    "    elif opcao == '2':   \n",
    "        print(f'\\n--- Lista de tarefas ---') \n",
    "        for i in range(len(tarefas)):\n",
    "            print(f'Tarefa {i + 1}° - {tarefas[i]}')    \n",
    "    elif opcao == '3':\n",
    "        if len(tarefas) == 0:\n",
    "            print(\"Você ainda não tem tarefas na sua lista.\")\n",
    "        else:\n",
    "            tarefa = input('Digite o número a tarefa que você deseja apagar, ou enter para voltar: ')\n",
    "            tarefa = int(tarefa)\n",
    "            if tarefa == '':\n",
    "                break\n",
    "                os.system('cls')\n",
    "            else:\n",
    "                tarefas.pop(tarefa - 1)\n",
    "                print(f'Tarefa {tarefa}° removida com sucesso.')\n",
    "        os.system('cls')      \n",
    "    elif opcao == '4':\n",
    "        break\n",
    "        os.system('cls')\n",
    "    else:\n",
    "        print('\\nOpção inválida, Digite outra opção:')\n",
    "\n",
    "print('\\nFim do programa...')\n"
   ]
  },
  {
   "cell_type": "markdown",
   "metadata": {},
   "source": [
    "#### Desafio 03\n",
    "- Crie um programa que pede o usuario que o mesmo digite um número qualquer, em seguida retorne se esse número é primo ou não, caso não seja, retorne tambem a quantas vezes esse número é divisível:\n",
    "\n",
    "Número primo é aquele que apenas é divisível por 1 ou por ele mesmo, temos de criar essa condição lógica para poder solucionar esse exercício."
   ]
  },
  {
   "cell_type": "code",
   "execution_count": 4,
   "metadata": {},
   "outputs": [
    {
     "name": "stdout",
     "output_type": "stream",
     "text": [
      "Não e primo\n"
     ]
    }
   ],
   "source": [
    "num = int(input(\"Digite um numero inteiro maior que zero: \"))\n",
    "if num <= 1:\n",
    "    print(\"Não é primo\")   # números menores ou iguais a 1 não são primos\n",
    "else:\n",
    "    # Verificar se o número é divisível por algum número além de 1 e ele mesmo\n",
    "    for i in range(2, int(num**0.5) + 1):\n",
    "        if num % i == 0:\n",
    "            print(\"Não e primo\")  # encontrado um divisor, portanto não é primo\n",
    "            break\n",
    "    else:\n",
    "        print(\"É primo\")  # se nenhum divisor foi encontrado, então é primo"
   ]
  },
  {
   "cell_type": "code",
   "execution_count": 3,
   "metadata": {},
   "outputs": [
    {
     "name": "stdout",
     "output_type": "stream",
     "text": [
      "O número 100 Não é primo\n",
      "A quantidade de números divisíveis é: 9\n"
     ]
    }
   ],
   "source": [
    "num = int(input('Digite um número: '))\n",
    "divisores = []\n",
    "primo = 0\n",
    "\n",
    "for i in range(1, (num + 1)):        \n",
    "    if num % i == 0:\n",
    "        divisores.append(i)\n",
    "        primo += 1\n",
    "    \n",
    "if primo  == 2 :\n",
    "    print(f'O número {num} é primo')\n",
    "else:\n",
    "    print(f'O número {num} não é primo')\n",
    "    \n",
    "print('A quantidade de números divisíveis é:', len(divisores))"
   ]
  }
 ],
 "metadata": {
  "kernelspec": {
   "display_name": "venv",
   "language": "python",
   "name": "python3"
  },
  "language_info": {
   "codemirror_mode": {
    "name": "ipython",
    "version": 3
   },
   "file_extension": ".py",
   "mimetype": "text/x-python",
   "name": "python",
   "nbconvert_exporter": "python",
   "pygments_lexer": "ipython3",
   "version": "3.12.4"
  }
 },
 "nbformat": 4,
 "nbformat_minor": 2
}
