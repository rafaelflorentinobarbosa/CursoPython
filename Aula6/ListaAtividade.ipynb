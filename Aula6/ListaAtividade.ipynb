{
 "cells": [
  {
   "cell_type": "markdown",
   "metadata": {},
   "source": [
    "## Operador ternário\n",
    "- Usar operador ternário quando as alternativas forem pequenas, e quando tiver apenas 2 ou no máximo 3 alternativas.\n",
    "- No exemplo a variável precisa ser inteira"
   ]
  },
  {
   "cell_type": "code",
   "execution_count": 10,
   "metadata": {},
   "outputs": [
    {
     "name": "stdout",
     "output_type": "stream",
     "text": [
      "karython é maior de idade.\n"
     ]
    }
   ],
   "source": [
    "nome = 'karython'\n",
    "idade = 18\n",
    "\n",
    "print(nome, 'é maior de idade.' if idade >= 18 else 'é menor de idade')"
   ]
  },
  {
   "cell_type": "markdown",
   "metadata": {},
   "source": [
    "## Replace\n",
    "- substituir"
   ]
  },
  {
   "cell_type": "code",
   "execution_count": 11,
   "metadata": {},
   "outputs": [
    {
     "name": "stdout",
     "output_type": "stream",
     "text": [
      "<class 'str'>\n",
      "<class 'float'>\n"
     ]
    }
   ],
   "source": [
    "peso = input(\"Digite seu peso: \").replace(',','.')\n",
    "print(type(peso))\n",
    "peso = float(peso)\n",
    "print(type(peso))\n"
   ]
  },
  {
   "cell_type": "markdown",
   "metadata": {},
   "source": [
    "## Desafio 01\n",
    "- Crie um programa para fazer a verificação de um cliente para saber se ele pode usar o brinquedo ou não.\n",
    "    - Para brincar ele precisa:\n",
    "        - ter mais que 12 anos\n",
    "        - ter altura minima de 1,20 mts"
   ]
  },
  {
   "cell_type": "code",
   "execution_count": 27,
   "metadata": {},
   "outputs": [],
   "source": [
    "idade = input(\"Digite a sua idade: \")\n",
    "idade = int(idade)\n",
    "\n",
    "altura = input(\"Digite a sua altura: \").replace(',','.')\n",
    "altura = float(altura)\n",
    "\n",
    "if(idade > 12 and altura > 1.2):\n",
    "    print(\"Pode usar o brinquedo\")\n",
    "else:\n",
    "    print(\"Não pode usar o brinquedo\")\n",
    "\n",
    "# Com ternário\n",
    "print('Pode usar o brinquedo.' if idade >= 12 else 'Não pode usar o brinquedo')"
   ]
  },
  {
   "cell_type": "markdown",
   "metadata": {},
   "source": [
    "## Desafio 02\n",
    "- Crie um programa que verifica se o aluno poderar ir a praia.\n",
    "    - Para ir a praia ele precisa:\n",
    "        - Verifica se acordei de bom humor\n",
    "        - Verifica se o pai ja chegou em casa para leva-lo"
   ]
  },
  {
   "cell_type": "code",
   "execution_count": 25,
   "metadata": {},
   "outputs": [
    {
     "name": "stdout",
     "output_type": "stream",
     "text": [
      "O aluno pode ir a praia\n",
      "O aluno pode ir a praia\n"
     ]
    }
   ],
   "source": [
    "acordou = input(\"Acordou de bom humor? (sim, não)\")\n",
    "pai_chegou = input(\"O seu pai já chegou?(sim ou não)\")\n",
    "\n",
    "if(acordou.lower() == \"sim\" and pai_chegou.lower() == \"sim\"):\n",
    "    print(\"O aluno pode ir a praia\")\n",
    "else:\n",
    "    print(\"O aluno não pode ir a praia\")\n",
    "\n",
    "# Com ternário\n",
    "print('O aluno pode ir a praia' if idade >= 12 else 'O aluno não pode ir a praia')\n"
   ]
  },
  {
   "cell_type": "markdown",
   "metadata": {},
   "source": [
    "## Desafio 03\n",
    "- Crie um programa que calcule o indice de massa corporal de um usuário\n",
    "    - pegue os valores de altura e peso\n",
    "        - use a conversão de valores\n",
    "        - use replace\n",
    "        - imprima se ele esta acima do peso ou nao\n",
    "\n",
    "## Desafio 04\n",
    "- Crie uma calculadora de IMC\n",
    "    - Imprima as seguintes condições:?\n",
    "        - imc <17: está com anorexia.\n",
    "        - imc <18.5: está abaixo do peso\n",
    "        - imc <25: está no peso ideal.\n",
    "        - imc <30: está acima do peso.\n",
    "        - imc <35: está com grau de obesidade I.\n",
    "        - imc <40: está com grau de obesidade II.\n",
    "        - imc: está com grau de obesidade mórbida."
   ]
  },
  {
   "cell_type": "code",
   "execution_count": 4,
   "metadata": {},
   "outputs": [
    {
     "name": "stdout",
     "output_type": "stream",
     "text": [
      "Está abaixo do peso\n"
     ]
    }
   ],
   "source": [
    "peso = input(\"Digite o seu peso: \").replace(',','.')\n",
    "peso = float(peso)\n",
    "\n",
    "altura = input(\"Digite a sua altura: \").replace(',','.')\n",
    "altura = float(altura)\n",
    "\n",
    "imc = peso / (altura ** 2)\n",
    "\n",
    "if imc < 17:\n",
    "    print(\"Está com anorexia\")\n",
    "elif imc >=17 and imc < 18.5:\n",
    "    print(\"Está abaixo do peso\")\n",
    "elif imc >=18.5 and imc < 25:\n",
    "    print(\"Está no peso ideal\")\n",
    "elif imc >=25 and imc < 30:\n",
    "    print(\"Está acima do peso.\")\n",
    "elif imc >=30 and imc < 35:\n",
    "    print(\"Está com grau de obesidade I.\")\n",
    "elif imc >=35 and imc < 40:\n",
    "    print(\"Eestá com grau de obesidade II.\")\n",
    "else:\n",
    "    print(\"Está com grau de obesidade mórbida.\")\n"
   ]
  },
  {
   "cell_type": "markdown",
   "metadata": {},
   "source": [
    "## Desafio 05\n",
    "- Crie uma calculadora basica.\n",
    "    - Solicite 2 números do usuário e pergunte qual operação matemática ele deseja fazer.\n",
    "        -   +; -; /; *\n",
    "        - imprima o resultado correto para cada operação"
   ]
  },
  {
   "cell_type": "code",
   "execution_count": 7,
   "metadata": {},
   "outputs": [
    {
     "name": "stdout",
     "output_type": "stream",
     "text": [
      "Resultado: 8.0\n"
     ]
    }
   ],
   "source": [
    "numero1 = input(\"Digite o primeiro número: \")\n",
    "numero1 = float(numero1)\n",
    "\n",
    "numero2 = input(\"Digite o segundo número: \")\n",
    "numero2 = float(numero2)\n",
    "\n",
    "operacao = input(\"Qual operação você deseja fazer (+, -, /, *): \")\n",
    "\n",
    "if operacao == '+':\n",
    "    print(f\"Resultado: {numero1 + numero2}\")\n",
    "elif operacao == '-':\n",
    "    print(f\"Resultado: {numero1 - numero2}\")\n",
    "elif operacao == '/':\n",
    "    print(f\"Resultado: {numero1 / numero2}\")\n",
    "elif operacao == '*':\n",
    "    print(f\"Resultado: {numero1 * numero2}\")\n",
    "else:\n",
    "    print(f\"Dados inválidos.\")"
   ]
  }
 ],
 "metadata": {
  "kernelspec": {
   "display_name": "Python 3",
   "language": "python",
   "name": "python3"
  },
  "language_info": {
   "codemirror_mode": {
    "name": "ipython",
    "version": 3
   },
   "file_extension": ".py",
   "mimetype": "text/x-python",
   "name": "python",
   "nbconvert_exporter": "python",
   "pygments_lexer": "ipython3",
   "version": "3.12.4"
  }
 },
 "nbformat": 4,
 "nbformat_minor": 2
}
