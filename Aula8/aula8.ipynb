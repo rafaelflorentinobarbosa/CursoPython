{
 "cells": [
  {
   "cell_type": "markdown",
   "metadata": {},
   "source": [
    "# Aula 08"
   ]
  },
  {
   "cell_type": "markdown",
   "metadata": {},
   "source": [
    "- O while é um bloco que repete um algoritmo enquanto uma determinda condição for verdadeira. Vamos começar com uma demostração bem simples: Criar que exibe uma contagem de 10 a 0."
   ]
  },
  {
   "cell_type": "code",
   "execution_count": null,
   "metadata": {},
   "outputs": [],
   "source": [
    "numero = 10\n",
    "\n",
    "while( numero >= 0):\n",
    "    print(numero)\n",
    "    numero -= 1\n"
   ]
  },
  {
   "cell_type": "markdown",
   "metadata": {},
   "source": [
    "# Continue \n",
    "- O comando continue serve para que a execução do restante do bloco seja desconsiderada e o código ignorado. O loop terá sua contagem contabilizada e o programa retorna para o início do loop. Segue o exemplo abaixo:"
   ]
  },
  {
   "cell_type": "code",
   "execution_count": null,
   "metadata": {},
   "outputs": [],
   "source": [
    "cont = 0\n",
    "\n",
    "while cont < 10:\n",
    "    cont += 1\n",
    "    if cont % 2 == 0:\n",
    "        print(cont)\n",
    "    else:\n",
    "        continue\n",
    "\n",
    "    print('Contando...')"
   ]
  },
  {
   "cell_type": "markdown",
   "metadata": {},
   "source": [
    "## Break\n",
    "- O comando break faz o contrário: encerra imediatamente o loop e vai para o final do programa, sem terminar o loop, mesmo que a condição esteja sendo atendida:"
   ]
  },
  {
   "cell_type": "code",
   "execution_count": 2,
   "metadata": {},
   "outputs": [
    {
     "name": "stdout",
     "output_type": "stream",
     "text": [
      "2\n",
      "Contando...\n",
      "4\n",
      "Contando...\n",
      "6\n",
      "Contando...\n"
     ]
    }
   ],
   "source": [
    "cont = 0\n",
    "\n",
    "while cont < 15:\n",
    "    cont += 1\n",
    "    if cont % 2 == 0:\n",
    "        print(cont)\n",
    "    elif cont >= 7:\n",
    "        break\n",
    "    else:\n",
    "        continue\n",
    "\n",
    "    print('Contando...')"
   ]
  },
  {
   "cell_type": "markdown",
   "metadata": {},
   "source": [
    "# Pass\n",
    "    - O comando pass é utilizado para o programa simplesmente pular uma determinada opção. Pode ser substituído por .... Veja o exemplo:"
   ]
  },
  {
   "cell_type": "code",
   "execution_count": null,
   "metadata": {},
   "outputs": [],
   "source": [
    "cont = 0\n",
    "\n",
    "while cont < 20:\n",
    "    cont += 1\n",
    "    if cont % 2 == 0:\n",
    "        print(cont)\n",
    "    elif cont < 5:\n",
    "        pass\n",
    "    elif cont >= 15:\n",
    "        break\n",
    "    else:\n",
    "        continue\n",
    "\n",
    "    print('Contando...')\n"
   ]
  },
  {
   "cell_type": "code",
   "execution_count": null,
   "metadata": {},
   "outputs": [],
   "source": [
    "cont = 0\n",
    "\n",
    "while cont < 20:\n",
    "    cont += 1\n",
    "    if cont % 2 == 0:\n",
    "        print(cont)\n",
    "    elif cont < 5:\n",
    "        ...\n",
    "    elif cont >= 15:\n",
    "        break\n",
    "    else:\n",
    "        continue\n",
    "\n",
    "    print('Contando...')"
   ]
  },
  {
   "cell_type": "code",
   "execution_count": null,
   "metadata": {},
   "outputs": [],
   "source": [
    "import os\n",
    "import time\n",
    "\n",
    "cont = int(input(\"Digite um momento inteiro: \"))\n",
    "\n",
    "while cont >= 0:\n",
    "    os.system('cls') # limpar o terminal\n",
    "    print(f'Contagem regressiva: {cont}...')\n",
    "    time.sleep(1)\n",
    "    cont -= 1\n",
    "\n",
    "os.system('cls')\n",
    "print('BOOOOOOOOOOOOOOOMMMMMMMMMMMMM!!!!')"
   ]
  },
  {
   "cell_type": "markdown",
   "metadata": {},
   "source": [
    "# Do While (Alternativa)\n",
    "- Não tem, mas possui uma alternativa com o while"
   ]
  },
  {
   "cell_type": "code",
   "execution_count": null,
   "metadata": {},
   "outputs": [],
   "source": [
    "# loop\n",
    "while True:\n",
    "    # entrada do nome\n",
    "    nome = input('Informe o seu nome ou deixa em branco para sair: ')\n",
    "\n",
    "    # verifica se o valor foi informado ou não\n",
    "    if nome != '':\n",
    "        # entrada de idade\n",
    "        idade = int(input('Informe a sua idade: '))\n",
    "\n",
    "        # Verificação de idade\n",
    "        if idade >= 18:\n",
    "            print(f'Olá {nome}! Você é maior de idade.')\n",
    "        else:\n",
    "            print(f'Olá {nome}! Você é menor de idade.')\n",
    "\n",
    "        continue # retorna ao início do loop\n",
    "    else:\n",
    "        break # encerra o loop\n"
   ]
  },
  {
   "cell_type": "markdown",
   "metadata": {},
   "source": [
    "# Desafio 1\n",
    "\n",
    "- Menu de opções: Loop imc"
   ]
  },
  {
   "cell_type": "code",
   "execution_count": null,
   "metadata": {},
   "outputs": [],
   "source": [
    "while True:\n",
    "    opcao = input('Deseja calcular o IMC? (s/n)').lower()\n",
    "\n",
    "    if opcao == 's':\n",
    "        peso = input(\"Digite o seu peso: \").replace(',','.')\n",
    "        peso = float(peso)\n",
    "\n",
    "        altura = input(\"Digite a sua altura: \").replace(',','.')\n",
    "        altura = float(altura)\n",
    "\n",
    "        imc = peso / (altura ** 2)\n",
    "\n",
    "        if imc < 17:\n",
    "            print(f\"\\nSeu IMC é: {imc} \\nEstá com anorexia\")\n",
    "        elif imc >=17 and imc < 18.5:\n",
    "            print(f\"\\nSeu IMC é: {imc} \\nEstá abaixo do peso\")\n",
    "        elif imc >=18.5 and imc < 25:\n",
    "            print(f\"\\nSeu IMC é: {imc} \\nEstá no peso ideal\")\n",
    "        elif imc >=25 and imc < 30:\n",
    "            print(f\"\\nSeu IMC é: {imc} \\nEstá acima do peso.\")\n",
    "        elif imc >=30 and imc < 35:\n",
    "            print(f\"\\nSeu IMC é: {imc} \\nEstá com grau de obesidade I.\")\n",
    "        elif imc >=35 and imc < 40:\n",
    "            print(f\"\\nSeu IMC é: {imc} \\nEstá com grau de obesidade II.\")\n",
    "        else:\n",
    "            print(f\"\\nSeu IMC é: {imc} \\nEstá com grau de obesidade mórbida.\")\n",
    "        continue \n",
    "    else:\n",
    "        break   "
   ]
  },
  {
   "cell_type": "markdown",
   "metadata": {},
   "source": [
    "# Desafio 2\n",
    "\n",
    "- Menu de opções: Loop Calculadora"
   ]
  },
  {
   "cell_type": "code",
   "execution_count": 25,
   "metadata": {},
   "outputs": [
    {
     "name": "stdout",
     "output_type": "stream",
     "text": [
      "Operação: 10.0 + 2.0 = 12.0 \n",
      "Ok, saindo do sistema\n"
     ]
    }
   ],
   "source": [
    "while True:\n",
    "    opcao = input('Deseja realizar uma operação? (s/n)').lower()\n",
    "\n",
    "    if opcao == 's':\n",
    "        numero1 = input(\"Digite o primeiro número: \")\n",
    "        numero1 = float(numero1)\n",
    "\n",
    "        numero2 = input(\"Digite o segundo número: \")\n",
    "        numero2 = float(numero2)\n",
    "\n",
    "        operacao = input(\"Qual operação você deseja fazer (+, -, /, *): \")\n",
    "\n",
    "        if operacao == '+':\n",
    "            print(f\"Operação: {numero1} {operacao} {numero2} = {numero1 + numero2} \")\n",
    "            #print(f\"Resultado: {numero1 + numero2}\")\n",
    "        elif operacao == '-':\n",
    "            print(f\"Operação: {numero1} {operacao} {numero2} = {numero1 - numero2} \")\n",
    "            #print(f\"Resultado: {numero1 - numero2}\")\n",
    "        elif operacao == '/':\n",
    "            print(f\"Operação: {numero1} {operacao} {numero2} = {numero1 / numero2} \")\n",
    "            #print(f\"Resultado: {numero1 / numero2}\")\n",
    "        elif operacao == '*':\n",
    "            print(f\"Operação: {numero1} {operacao} {numero2} = {numero1 * numero2} \")\n",
    "            #print(f\"Resultado: {numero1 * numero2}\")\n",
    "        else:\n",
    "            print(f\"Dados inválidos.\")        \n",
    "        continue\n",
    "    elif opcao == 'n':\n",
    "        print('Ok, saindo do sistema')\n",
    "        break\n",
    "    else:\n",
    "        print('Opção inválida!')"
   ]
  },
  {
   "cell_type": "markdown",
   "metadata": {},
   "source": [
    "# Desafio 3\n",
    "\n",
    "- Crie um programa que liste 5 salas de cinema, e mostre os filmes de cada uma das salas e suas classicações indicativas. O usuário deverá informar sua idade e a sala ..."
   ]
  },
  {
   "cell_type": "code",
   "execution_count": null,
   "metadata": {},
   "outputs": [],
   "source": [
    "nome = input(\"Digite o seu nome: \")\n",
    "\n",
    "idade = input(\"Digite a sua idade: \")\n",
    "idade = int(idade)\n",
    "\n",
    "while True:\n",
    "    opcao = input('Deseja comprar uma ingresso? (s/n)').lower()\n",
    "\n",
    "    if opcao == 's':\n",
    "\n",
    "        print(30*\"- \", \"Cinema: Filmes em Cartaz \", 30*\"- \")\n",
    "\n",
    "        print(\"\\nSala 01 - Filme: Titanic, Classificação: 12 anos\")\n",
    "        print(\"Sala 02 - Filme: Rambo, Classificação: 16 anos\")\n",
    "        print(\"Sala 03 - Filme: Jhon Wicked, Classificação: 18 anos\")\n",
    "        print(\"Sala 04 - Filme: Vingadores, Classificação: 14 anos\")\n",
    "        print(\"Sala 05 - Filme: Matrix, Classificação: Livre\")\n",
    "\n",
    "        print(\"\\n\",30*\"- \", \"Cinema: Bilheteria\", 30*\"- \")\n",
    "\n",
    "        sala = input(\"Digite o número da sala desejada: \")\n",
    "        sala = int(sala)\n",
    "\n",
    "        if sala == 1:\n",
    "            print(\"\\nVocê escolheu a Sala 1, Filme: Titanic\")\n",
    "\n",
    "            if idade >= 12:\n",
    "                print(f\"\\n{nome}, Ingresso emitido, Filme: Titanic\")\n",
    "            else:\n",
    "                print(\"\\nVocê não tem a idade mínima para ver o filme, escolha outro filme.\")       \n",
    "        elif sala == 2:\n",
    "            print(\"\\nVocê escolheu a Sala 2, Filme: Rambo\")\n",
    "\n",
    "            if idade >= 16:\n",
    "                print(f\"\\n{nome}, Ingresso emitido, Filme: Rambo\")\n",
    "            else:\n",
    "                print(\"\\nVocê não tem a idade mínima para ver o filme, escolha outro filme.\")\n",
    "        elif sala == 3:\n",
    "            print(\"\\nVocê escolheu a Sala 3, Filme: Jhon Wicked\")\n",
    "\n",
    "            if idade >= 18:\n",
    "                print(f\"\\n{nome}, Ingresso emitido, Filme: Jhon Wicked\")\n",
    "            else:\n",
    "                print(\"\\nVocê não tem a idade mínima para ver o filme, escolha outro filme.\")\n",
    "        elif sala == 4:\n",
    "            print(\"\\nVocê escolheu a Sala 3, Filme: Vingadores\")\n",
    "\n",
    "            if idade >= 14:\n",
    "                print(f\"\\n{nome}, Ingresso emitido, Filme: Vingadores\")\n",
    "            else:\n",
    "                print(\"\\nVocê não tem a idade mínima para ver o filme, escolha outro filme.\")\n",
    "            \n",
    "        elif sala == 5:\n",
    "            print(\"\\nVocê escolheu a Sala 3, Filme: Matrix\")\n",
    "\n",
    "            print(f\"\\n{nome}, Ingresso emitido, Filme: Matrix\")\n",
    "        else:\n",
    "            print(\"\\nOpção inválida. Por favor, escolha um número de 1 a 5.\")\n",
    "        continue\n",
    "    elif opcao == 'n':\n",
    "        print('\\nOk, saindo do sistema')\n",
    "        break\n",
    "    else:\n",
    "        print('\\nOpção inválida!')\n",
    "\n"
   ]
  },
  {
   "cell_type": "code",
   "execution_count": 6,
   "metadata": {},
   "outputs": [
    {
     "name": "stdout",
     "output_type": "stream",
     "text": [
      "-----CINE COBRA-----\n",
      "\n",
      "---Lista de filmes---\n",
      "Sala 1 - A Volta dos Que Não Foram - 16 anos.\n",
      "Sala 2 - A Roda Quadrada - 14 anos.\n",
      "Sala 3 - Poeira em Alto Mar - 12 anos.\n",
      "Sala 4 - As Tranças do Rei Careca - Livre.\n",
      "Sala 5 - A Vingança do Peixe Frito - 18 anos.\n",
      "\n",
      "rafael não possui a idade mínima para o filme. Favor escolher outro filme.\n",
      "-----CINE COBRA-----\n",
      "\n",
      "---Lista de filmes---\n",
      "Sala 1 - A Volta dos Que Não Foram - 16 anos.\n",
      "Sala 2 - A Roda Quadrada - 14 anos.\n",
      "Sala 3 - Poeira em Alto Mar - 12 anos.\n",
      "Sala 4 - As Tranças do Rei Careca - Livre.\n",
      "Sala 5 - A Vingança do Peixe Frito - 18 anos.\n",
      "\n",
      "rafael não possui a idade mínima para o filme. Favor escolher outro filme.\n",
      "-----CINE COBRA-----\n",
      "\n",
      "---Lista de filmes---\n",
      "Sala 1 - A Volta dos Que Não Foram - 16 anos.\n",
      "Sala 2 - A Roda Quadrada - 14 anos.\n",
      "Sala 3 - Poeira em Alto Mar - 12 anos.\n",
      "Sala 4 - As Tranças do Rei Careca - Livre.\n",
      "Sala 5 - A Vingança do Peixe Frito - 18 anos.\n",
      "\n",
      "rafael não possui a idade mínima para o filme. Favor escolher outro filme.\n",
      "-----CINE COBRA-----\n",
      "\n",
      "---Lista de filmes---\n",
      "Sala 1 - A Volta dos Que Não Foram - 16 anos.\n",
      "Sala 2 - A Roda Quadrada - 14 anos.\n",
      "Sala 3 - Poeira em Alto Mar - 12 anos.\n",
      "Sala 4 - As Tranças do Rei Careca - Livre.\n",
      "Sala 5 - A Vingança do Peixe Frito - 18 anos.\n",
      "\n",
      "rafael teve a entrada autorizada. Bom filme!\n"
     ]
    }
   ],
   "source": [
    "# Outra maneira\n",
    "\n",
    "# importa biblioteca\n",
    "import os\n",
    "\n",
    "# entrada de dados\n",
    "nome = input('Informe o seu nome: ')\n",
    "idade = int(input('Informe a sua idade: '))\n",
    "\n",
    "# limpaa tela\n",
    "os.system('cls')\n",
    "\n",
    "# entra no loop\n",
    "# NOTE: while True é o equivalente ao 'do...while' das outras linguagens de programação\n",
    "while True:\n",
    "    # exibe a lista de filmes\n",
    "    print('-----CINE COBRA-----\\n') # \\n executa uma quebra de linha adicional\n",
    "    print('---Lista de filmes---')\n",
    "    print('Sala 1 - A Volta dos Que Não Foram - 16 anos.')\n",
    "    print('Sala 2 - A Roda Quadrada - 14 anos.')\n",
    "    print('Sala 3 - Poeira em Alto Mar - 12 anos.')\n",
    "    print('Sala 4 - As Tranças do Rei Careca - Livre.')\n",
    "    print('Sala 5 - A Vingança do Peixe Frito - 18 anos.\\n')\n",
    "\n",
    "    # usuário informa a sala desejada\n",
    "    sala = input('Informe a sala desejada: ')\n",
    "\n",
    "    # limpaa tela\n",
    "    os.system('cls')\n",
    "\n",
    "    # NOTE: até recentemente, o Python não possuia uma versão do 'switch...case'. Embora já exista uma versão dela implementada nas versões mais recentes do Python, é recomendado trocar pelo tradicional if...else.\n",
    "    # verifica a sala\n",
    "    if sala == '1':\n",
    "        idade_minima = 16\n",
    "    elif sala == '2':\n",
    "        idade_minima = 14\n",
    "    elif sala == '3':\n",
    "        idade_minima = 12\n",
    "    elif sala == '4':\n",
    "        idade_minima = 0\n",
    "    elif sala == '5':\n",
    "        idade_minima = 18\n",
    "    else:\n",
    "        print('Sala inexistente. Favor escolher outra sala.')\n",
    "        continue # interrompe o loop e volta para a próxima execução\n",
    "\n",
    "    # verifica a idade do usuário\n",
    "    if idade >= int(idade_minima):\n",
    "        print(f'{nome} teve a entrada autorizada. Bom filme!')\n",
    "        break # interrompe e encerra o loop, indo para o final do programa\n",
    "    else:\n",
    "        print(f'{nome} não possui a idade mínima para o filme. Favor escolher outro filme.')\n",
    "        continue"
   ]
  }
 ],
 "metadata": {
  "kernelspec": {
   "display_name": ".venv",
   "language": "python",
   "name": "python3"
  },
  "language_info": {
   "codemirror_mode": {
    "name": "ipython",
    "version": 3
   },
   "file_extension": ".py",
   "mimetype": "text/x-python",
   "name": "python",
   "nbconvert_exporter": "python",
   "pygments_lexer": "ipython3",
   "version": "3.12.4"
  }
 },
 "nbformat": 4,
 "nbformat_minor": 2
}
