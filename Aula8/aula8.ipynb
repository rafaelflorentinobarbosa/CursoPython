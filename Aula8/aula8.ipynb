{
 "cells": [
  {
   "cell_type": "markdown",
   "metadata": {},
   "source": [
    "# Aula 08"
   ]
  },
  {
   "cell_type": "markdown",
   "metadata": {},
   "source": [
    "- O while é um bloco que repete um algoritmo enquanto uma determinda condição for verdadeira. Vamos começar com uma demostração bem simples: Criar que exibe uma contagem de 10 a 0."
   ]
  },
  {
   "cell_type": "code",
   "execution_count": null,
   "metadata": {},
   "outputs": [],
   "source": [
    "numero = 10\n",
    "\n",
    "while( numero >= 0):\n",
    "    print(numero)\n",
    "    numero -= 1\n"
   ]
  },
  {
   "cell_type": "code",
   "execution_count": null,
   "metadata": {},
   "outputs": [],
   "source": [
    "cont = 0\n",
    "\n",
    "while cont < 15:\n",
    "    cont += 1\n",
    "    if cont % 2 == 0:\n",
    "        print(cont)\n",
    "    elif cont >= 7:\n",
    "        break\n",
    "    else:\n",
    "        continue\n",
    "\n",
    "    print(\"Continuação do loop...\")\n",
    "    "
   ]
  },
  {
   "cell_type": "markdown",
   "metadata": {},
   "source": [
    "## Break\n",
    "- O comando break faz : encerra imediatamente o loop e vai para o final do programa, sem terminar o loop, measmo que a condição esteja sendo atendida:"
   ]
  },
  {
   "cell_type": "markdown",
   "metadata": {},
   "source": [
    "# Continue\n",
    "- O comando cont serve para que a execução do restante do bloco seja desconsiderado e o código\n"
   ]
  },
  {
   "cell_type": "markdown",
   "metadata": {},
   "source": [
    "# Pass\n",
    "    - O comando pass é utilizado para o programa simplesmente"
   ]
  },
  {
   "cell_type": "code",
   "execution_count": 9,
   "metadata": {},
   "outputs": [],
   "source": [
    "# cont = 0 \n",
    "\n",
    "# while cont < 20:\n",
    "#     cont += 1\n",
    "#     if cont % 2 == 0:\n",
    "#         print(cont)\n",
    "#     else:\n",
    "        \n"
   ]
  },
  {
   "cell_type": "code",
   "execution_count": 8,
   "metadata": {},
   "outputs": [
    {
     "name": "stdout",
     "output_type": "stream",
     "text": [
      "Contagem regressiva: 25...\n",
      "Contagem regressiva: 24...\n",
      "Contagem regressiva: 23...\n",
      "Contagem regressiva: 22...\n",
      "Contagem regressiva: 21...\n",
      "Contagem regressiva: 20...\n",
      "Contagem regressiva: 19...\n",
      "Contagem regressiva: 18...\n",
      "Contagem regressiva: 17...\n",
      "Contagem regressiva: 16...\n",
      "Contagem regressiva: 15...\n",
      "Contagem regressiva: 14...\n",
      "Contagem regressiva: 13...\n",
      "Contagem regressiva: 12...\n",
      "Contagem regressiva: 11...\n",
      "Contagem regressiva: 10...\n",
      "Contagem regressiva: 9...\n",
      "Contagem regressiva: 8...\n",
      "Contagem regressiva: 7...\n",
      "Contagem regressiva: 6...\n",
      "Contagem regressiva: 5...\n",
      "Contagem regressiva: 4...\n",
      "Contagem regressiva: 3...\n",
      "Contagem regressiva: 2...\n",
      "Contagem regressiva: 1...\n",
      "Contagem regressiva: 0...\n",
      "BOOOOOOOOOOOOOOOMMMMMMMMMMMMM!!!!\n"
     ]
    }
   ],
   "source": [
    "import os\n",
    "import time\n",
    "\n",
    "cont = int(input(\"Digite um momento inteiro: \"))\n",
    "\n",
    "while cont >= 0:\n",
    "    os.system('cls') # limpar o terminal\n",
    "    print(f'Contagem regressiva: {cont}...')\n",
    "    time.sleep(1)\n",
    "    cont -= 1\n",
    "\n",
    "os.system('cls')\n",
    "print('BOOOOOOOOOOOOOOOMMMMMMMMMMMMM!!!!')"
   ]
  },
  {
   "cell_type": "markdown",
   "metadata": {},
   "source": [
    "# Do While (Alternativa)\n",
    "- Não tem, mas possui uma alternativa com o while"
   ]
  },
  {
   "cell_type": "code",
   "execution_count": null,
   "metadata": {},
   "outputs": [],
   "source": [
    "# loop\n",
    "while True:\n",
    "    # entrada do nome\n",
    "    nome = input('Informe o seu nome ou deixa em branco para sair: ')\n",
    "\n",
    "    # verifica se o valor foi informado ou não\n",
    "    if nome != '':\n",
    "        # entrada de idade\n",
    "        idade = int(input('Informe a sua idade: '))\n",
    "\n",
    "        # Verificação de idade\n",
    "        if idade >= 18:\n",
    "            print(f'Olá {nome}! Você é maior de idade.')\n",
    "        else:\n",
    "            print(f'Olá {nome}! Você é menor de idade.')\n",
    "\n",
    "        continue # retorna ao início do loop\n",
    "    else:\n",
    "        break # encerra o loop\n"
   ]
  },
  {
   "cell_type": "markdown",
   "metadata": {},
   "source": [
    "# Desafio 1\n",
    "\n",
    "- Menu de opções: Loop imc"
   ]
  },
  {
   "cell_type": "code",
   "execution_count": null,
   "metadata": {},
   "outputs": [],
   "source": [
    "while True:\n",
    "    opcao = input('Deseja calcular o IMC? (s/n)').lower()\n",
    "\n",
    "    if opcao == 's':\n",
    "        peso = input(\"Digite o seu peso: \").replace(',','.')\n",
    "        peso = float(peso)\n",
    "\n",
    "        altura = input(\"Digite a sua altura: \").replace(',','.')\n",
    "        altura = float(altura)\n",
    "\n",
    "        imc = peso / (altura ** 2)\n",
    "\n",
    "        if imc < 17:\n",
    "            print(f\"\\nSeu IMC é: {imc} \\nEstá com anorexia\")\n",
    "        elif imc >=17 and imc < 18.5:\n",
    "            print(f\"\\nSeu IMC é: {imc} \\nEstá abaixo do peso\")\n",
    "        elif imc >=18.5 and imc < 25:\n",
    "            print(f\"\\nSeu IMC é: {imc} \\nEstá no peso ideal\")\n",
    "        elif imc >=25 and imc < 30:\n",
    "            print(f\"\\nSeu IMC é: {imc} \\nEstá acima do peso.\")\n",
    "        elif imc >=30 and imc < 35:\n",
    "            print(f\"\\nSeu IMC é: {imc} \\nEstá com grau de obesidade I.\")\n",
    "        elif imc >=35 and imc < 40:\n",
    "            print(f\"\\nSeu IMC é: {imc} \\nEstá com grau de obesidade II.\")\n",
    "        else:\n",
    "            print(f\"\\nSeu IMC é: {imc} \\nEstá com grau de obesidade mórbida.\")\n",
    "        continue \n",
    "    else:\n",
    "        break   "
   ]
  },
  {
   "cell_type": "markdown",
   "metadata": {},
   "source": [
    "# Desafio 2\n",
    "\n",
    "- Menu de opções: Loop Calculadora"
   ]
  },
  {
   "cell_type": "code",
   "execution_count": 25,
   "metadata": {},
   "outputs": [
    {
     "name": "stdout",
     "output_type": "stream",
     "text": [
      "Operação: 10.0 + 2.0 = 12.0 \n",
      "Ok, saindo do sistema\n"
     ]
    }
   ],
   "source": [
    "while True:\n",
    "    opcao = input('Deseja realizar uma operação? (s/n)').lower()\n",
    "\n",
    "    if opcao == 's':\n",
    "        numero1 = input(\"Digite o primeiro número: \")\n",
    "        numero1 = float(numero1)\n",
    "\n",
    "        numero2 = input(\"Digite o segundo número: \")\n",
    "        numero2 = float(numero2)\n",
    "\n",
    "        operacao = input(\"Qual operação você deseja fazer (+, -, /, *): \")\n",
    "\n",
    "        if operacao == '+':\n",
    "            print(f\"Operação: {numero1} {operacao} {numero2} = {numero1 + numero2} \")\n",
    "            #print(f\"Resultado: {numero1 + numero2}\")\n",
    "        elif operacao == '-':\n",
    "            print(f\"Operação: {numero1} {operacao} {numero2} = {numero1 - numero2} \")\n",
    "            #print(f\"Resultado: {numero1 - numero2}\")\n",
    "        elif operacao == '/':\n",
    "            print(f\"Operação: {numero1} {operacao} {numero2} = {numero1 / numero2} \")\n",
    "            #print(f\"Resultado: {numero1 / numero2}\")\n",
    "        elif operacao == '*':\n",
    "            print(f\"Operação: {numero1} {operacao} {numero2} = {numero1 * numero2} \")\n",
    "            #print(f\"Resultado: {numero1 * numero2}\")\n",
    "        else:\n",
    "            print(f\"Dados inválidos.\")        \n",
    "        continue\n",
    "    elif opcao == 'n':\n",
    "        print('Ok, saindo do sistema')\n",
    "        break\n",
    "    else:\n",
    "        print('Opção inválida!')"
   ]
  },
  {
   "cell_type": "markdown",
   "metadata": {},
   "source": [
    "# Desafio 3\n",
    "\n",
    "- Crie um programa que liste 5 salas de cinema, e mostre os filmes de cada uma das salas e suas classicações indicativas. O usuário deverá informar sua idade e a sala ..."
   ]
  },
  {
   "cell_type": "code",
   "execution_count": 8,
   "metadata": {},
   "outputs": [
    {
     "name": "stdout",
     "output_type": "stream",
     "text": [
      "- - - - - - - - - - - - - - - - - - - - - - - - - - - - - -  Cinema: Filmes em Cartaz  - - - - - - - - - - - - - - - - - - - - - - - - - - - - - - \n",
      "\n",
      "Sala 01 - Filme: Titanic, Classificação: 12 anos\n",
      "Sala 02 - Filme: Rambo, Classificação: 16 anos\n",
      "Sala 03 - Filme: Jhon Wicked, Classificação: 18 anos\n",
      "Sala 04 - Filme: Vingadores, Classificação: 14 anos\n",
      "Sala 05 - Filme: Matrix, Classificação: Livre\n",
      "\n",
      " - - - - - - - - - - - - - - - - - - - - - - - - - - - - - -  Cinema: Bilheteria - - - - - - - - - - - - - - - - - - - - - - - - - - - - - - \n",
      "\n",
      "Você escolheu a Sala 1, Filme: Titanic\n",
      "\n",
      "rafael, Ingresso emitido, Filme: Titanic\n",
      "- - - - - - - - - - - - - - - - - - - - - - - - - - - - - -  Cinema: Filmes em Cartaz  - - - - - - - - - - - - - - - - - - - - - - - - - - - - - - \n",
      "\n",
      "Sala 01 - Filme: Titanic, Classificação: 12 anos\n",
      "Sala 02 - Filme: Rambo, Classificação: 16 anos\n",
      "Sala 03 - Filme: Jhon Wicked, Classificação: 18 anos\n",
      "Sala 04 - Filme: Vingadores, Classificação: 14 anos\n",
      "Sala 05 - Filme: Matrix, Classificação: Livre\n",
      "\n",
      " - - - - - - - - - - - - - - - - - - - - - - - - - - - - - -  Cinema: Bilheteria - - - - - - - - - - - - - - - - - - - - - - - - - - - - - - \n",
      "\n",
      "Você escolheu a Sala 2, Filme: Rambo\n",
      "\n",
      "rafael, Ingresso emitido, Filme: Rambo\n",
      "\n",
      "Ok, saindo do sistema\n"
     ]
    }
   ],
   "source": [
    "nome = input(\"Digite o seu nome: \")\n",
    "\n",
    "idade = input(\"Digite a sua idade: \")\n",
    "idade = int(idade)\n",
    "\n",
    "while True:\n",
    "    opcao = input('Deseja comprar uma ingresso? (s/n)').lower()\n",
    "\n",
    "    if opcao == 's':\n",
    "\n",
    "        print(30*\"- \", \"Cinema: Filmes em Cartaz \", 30*\"- \")\n",
    "\n",
    "        print(\"\\nSala 01 - Filme: Titanic, Classificação: 12 anos\")\n",
    "        print(\"Sala 02 - Filme: Rambo, Classificação: 16 anos\")\n",
    "        print(\"Sala 03 - Filme: Jhon Wicked, Classificação: 18 anos\")\n",
    "        print(\"Sala 04 - Filme: Vingadores, Classificação: 14 anos\")\n",
    "        print(\"Sala 05 - Filme: Matrix, Classificação: Livre\")\n",
    "\n",
    "        print(\"\\n\",30*\"- \", \"Cinema: Bilheteria\", 30*\"- \")\n",
    "\n",
    "        sala = input(\"Digite o número da sala desejada: \")\n",
    "        sala = int(sala)\n",
    "\n",
    "        if sala == 1:\n",
    "            print(\"\\nVocê escolheu a Sala 1, Filme: Titanic\")\n",
    "\n",
    "            if idade >= 12:\n",
    "                print(f\"\\n{nome}, Ingresso emitido, Filme: Titanic\")\n",
    "            else:\n",
    "                print(\"\\nVocê não tem a idade mínima para ver o filme, escolha outro filme.\")       \n",
    "        elif sala == 2:\n",
    "            print(\"\\nVocê escolheu a Sala 2, Filme: Rambo\")\n",
    "\n",
    "            if idade >= 16:\n",
    "                print(f\"\\n{nome}, Ingresso emitido, Filme: Rambo\")\n",
    "            else:\n",
    "                print(\"\\nVocê não tem a idade mínima para ver o filme, escolha outro filme.\")\n",
    "        elif sala == 3:\n",
    "            print(\"\\nVocê escolheu a Sala 3, Filme: Jhon Wicked\")\n",
    "\n",
    "            if idade >= 18:\n",
    "                print(f\"\\n{nome}, Ingresso emitido, Filme: Jhon Wicked\")\n",
    "            else:\n",
    "                print(\"\\nVocê não tem a idade mínima para ver o filme, escolha outro filme.\")\n",
    "        elif sala == 4:\n",
    "            print(\"\\nVocê escolheu a Sala 3, Filme: Vingadores\")\n",
    "\n",
    "            if idade >= 14:\n",
    "                print(f\"\\n{nome}, Ingresso emitido, Filme: Vingadores\")\n",
    "            else:\n",
    "                print(\"\\nVocê não tem a idade mínima para ver o filme, escolha outro filme.\")\n",
    "            \n",
    "        elif sala == 5:\n",
    "            print(\"\\nVocê escolheu a Sala 3, Filme: Matrix\")\n",
    "\n",
    "            print(f\"\\n{nome}, Ingresso emitido, Filme: Matrix\")\n",
    "        else:\n",
    "            print(\"\\nOpção inválida. Por favor, escolha um número de 1 a 5.\")\n",
    "        continue\n",
    "    elif opcao == 'n':\n",
    "        print('\\nOk, saindo do sistema')\n",
    "        break\n",
    "    else:\n",
    "        print('\\nOpção inválida!')\n",
    "\n"
   ]
  }
 ],
 "metadata": {
  "kernelspec": {
   "display_name": ".venv",
   "language": "python",
   "name": "python3"
  },
  "language_info": {
   "codemirror_mode": {
    "name": "ipython",
    "version": 3
   },
   "file_extension": ".py",
   "mimetype": "text/x-python",
   "name": "python",
   "nbconvert_exporter": "python",
   "pygments_lexer": "ipython3",
   "version": "3.12.4"
  }
 },
 "nbformat": 4,
 "nbformat_minor": 2
}
