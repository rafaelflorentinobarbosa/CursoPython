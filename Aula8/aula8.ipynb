{
 "cells": [
  {
   "cell_type": "code",
   "execution_count": null,
   "metadata": {},
   "outputs": [],
   "source": []
  },
  {
   "cell_type": "markdown",
   "metadata": {},
   "source": [
    "# Aula 08\n",
    "\n",
    "## Laço for"
   ]
  },
  {
   "cell_type": "code",
   "execution_count": null,
   "metadata": {},
   "outputs": [],
   "source": [
    "for n in range(5):\n",
    "    print(n)"
   ]
  },
  {
   "cell_type": "code",
   "execution_count": null,
   "metadata": {},
   "outputs": [],
   "source": [
    "nomes = ['rafael','daniel', 'Mateus', 'Ana', 'julia']\n",
    "\n",
    "for nome in nomes:\n",
    "    print(nome)\n"
   ]
  },
  {
   "cell_type": "code",
   "execution_count": null,
   "metadata": {},
   "outputs": [],
   "source": [
    "for i in range(0,21):\n",
    "    if i % 2 == 0:\n",
    "        print(i)"
   ]
  },
  {
   "cell_type": "code",
   "execution_count": null,
   "metadata": {},
   "outputs": [],
   "source": [
    "# Árvore de asterísticos (*)\n",
    "\n",
    "altura = 20\n",
    "espacamento = 0\n",
    "asteristico = 1\n",
    "simbolo = '*'\n",
    "\n",
    "for i in range(altura):\n",
    "    espacamento = altura - i -1\n",
    "\n",
    "    for j in range(espacamento):\n",
    "        print(' ', end='')\n",
    "    \n",
    "    for k in range(asteristico):\n",
    "        print(simbolo, end='')\n",
    "    print()\n",
    "    asteristico +=2"
   ]
  },
  {
   "cell_type": "code",
   "execution_count": 5,
   "metadata": {},
   "outputs": [
    {
     "name": "stdout",
     "output_type": "stream",
     "text": [
      "O sorteado é: pedro\n"
     ]
    }
   ],
   "source": [
    "import random\n",
    "\n",
    "nome1 = input('Digitr um nome: ')\n",
    "nome2 = input('Digitr um nome: ')\n",
    "nome3 = input('Digitr um nome: ')\n",
    "nome4 = input('Digitr um nome: ')\n",
    "nome5 = input('Digitr um nome: ')\n",
    "\n",
    "lista_nome = [nome1, nome2, nome3, nome]\n",
    "\n",
    "\n",
    "escolhido = random.choice(lista_nome)\n",
    "\n",
    "print(f'O sorteado é: {escolhido}')\n"
   ]
  },
  {
   "cell_type": "code",
   "execution_count": 10,
   "metadata": {},
   "outputs": [
    {
     "name": "stdout",
     "output_type": "stream",
     "text": [
      "O sorteado é: melissa\n",
      "Lista de Pessoas: \n",
      "\n",
      "['ana', 'melissa', 'pedro', 'bruno']\n"
     ]
    }
   ],
   "source": [
    "import random\n",
    "\n",
    "lista_nome = []\n",
    "\n",
    "while True:\n",
    "    nome = input(\"Digite os nomes que serão sorteados: \")\n",
    "    if nome != '':\n",
    "        lista_nome.append(nome)\n",
    "    else:\n",
    "        break\n",
    "\n",
    "escolhido = random.choice(lista_nome)\n",
    "\n",
    "print(f'O sorteado é: {escolhido}')\n",
    "\n",
    "print(f'Lista de Pessoas: \\n')\n",
    "print(lista_nome)"
   ]
  },
  {
   "cell_type": "code",
   "execution_count": null,
   "metadata": {},
   "outputs": [],
   "source": [
    "import os\n",
    "import random\n",
    "\n",
    "lista_sorteados = []\n",
    "lista_nome = []\n",
    "\n",
    "while True:\n",
    "    nome = input(\"Digite os nomes que serão sorteados: \")\n",
    "    if nome!= '':\n",
    "        lista_nome.append(nome)\n",
    "    else:\n",
    "        break\n",
    "\n",
    "while True:\n",
    "    if lista_nome:\n",
    "        os.system('cls')\n",
    "        escolhido = random.choice(lista_nome)\n",
    "        lista_sorteados.append(escolhido)\n",
    "        print(f'O sorteado é {escolhido}')\n",
    "\n",
    "        opcao = input('Deseja sortear outro nome? (s/n)').lower()\n",
    "        os.system('cls')\n",
    "\n",
    "        if opcao != 's':\n",
    "            break\n",
    "    else:\n",
    "        print('Não há mais nomes para sortear.')\n",
    "        \n",
    "print(\"Programa finalizado\")\n",
    "print(f'Lista dos nome:  {lista_nome} ')\n",
    "print(f'Lista sorteados:  {lista_sorteados}')"
   ]
  },
  {
   "cell_type": "code",
   "execution_count": null,
   "metadata": {},
   "outputs": [],
   "source": [
    "lista = ['Gomes', 'Oliveira', 'Karython', 'Lucas', 'Beltrano', 'Ciclano']\n",
    "\n",
    "print(f'O primiro nome da lista : {lista[0]}')\n",
    "print(f'O primiro nome da lista : {lista[1]}')\n",
    "print(f'O primiro nome da lista : {lista[2]}')\n",
    "print('')\n",
    "\n",
    "for i in range(5):\n",
    "    print(f'{i +1 }° nome: {lista[i]}')\n",
    "\n",
    "for i in range(len(lista)):\n",
    "    print(f'{i +1 }° nome: {lista[i]}')"
   ]
  },
  {
   "cell_type": "code",
   "execution_count": null,
   "metadata": {},
   "outputs": [],
   "source": [
    "print(30*'=')\n",
    "x = int(input('Digite um número inteiro: '))\n",
    "\n",
    "for num in range(1, 11):\n",
    "    print(f'{x} x {num} = {x * num}')"
   ]
  },
  {
   "cell_type": "code",
   "execution_count": 23,
   "metadata": {},
   "outputs": [
    {
     "name": "stdout",
     "output_type": "stream",
     "text": [
      "Bem-vindo ao Game Python Adivinha\n",
      "Voce tem 5 tentativas para adivinhar o numero secreto entre 1 e 20\n",
      "Tente um número maior\n",
      "Tente um número menor!\n",
      "Tente um número maior\n",
      "Parabéns você acertou o número secreto em 4 tentativas!\n"
     ]
    }
   ],
   "source": [
    "import random\n",
    "\n",
    "numero_secreto = random.randint(1,20)\n",
    "\n",
    "tentativas = 0\n",
    "max_tentativas = 5\n",
    "acertou = False\n",
    "\n",
    "print(\"Bem-vindo ao Game Python Adivinha\")\n",
    "print(f'Voce tem {max_tentativas} tentativas para adivinhar o numero secreto entre 1 e 20')\n",
    "\n",
    "while tentativas < max_tentativas:\n",
    "    palpite = int(input('Digite um numero inteiro:'))\n",
    "\n",
    "    tentativas += 1\n",
    "\n",
    "    if palpite == numero_secreto:\n",
    "        acertou = True\n",
    "        break\n",
    "    elif palpite < numero_secreto:\n",
    "        print('Tente um número maior')\n",
    "    else:\n",
    "        print('Tente um número menor!')\n",
    "if acertou:\n",
    "    print(f'Parabéns você acertou o número secreto em {tentativas} tentativas!')\n",
    "else:\n",
    "    print(f'Que pena, você perdeu. O número secreto era {numero_secreto}')"
   ]
  }
 ],
 "metadata": {
  "kernelspec": {
   "display_name": ".venv",
   "language": "python",
   "name": "python3"
  },
  "language_info": {
   "codemirror_mode": {
    "name": "ipython",
    "version": 3
   },
   "file_extension": ".py",
   "mimetype": "text/x-python",
   "name": "python",
   "nbconvert_exporter": "python",
   "pygments_lexer": "ipython3",
   "version": "3.12.4"
  }
 },
 "nbformat": 4,
 "nbformat_minor": 2
}
