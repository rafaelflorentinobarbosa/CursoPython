{
 "cells": [
  {
   "cell_type": "markdown",
   "metadata": {},
   "source": [
    "# Aula 05"
   ]
  },
  {
   "cell_type": "markdown",
   "metadata": {},
   "source": [
    "- Verifica se o repositorio esta conectado com git remote -v   \n",
    "- Fazer o push para empurrar os arquivos para nuvem github"
   ]
  },
  {
   "cell_type": "code",
   "execution_count": null,
   "metadata": {},
   "outputs": [],
   "source": [
    "# Condicional IF\n",
    "programador = True\n",
    "\n",
    "if programador:\n",
    "    print('IF é verdadeiro')\n",
    "    print('verdadeiro')\n",
    "else:\n",
    "    print('IF é falso')\n",
    "    print('falso')\n",
    "\n",
    "print('Finalizou o código')    "
   ]
  },
  {
   "cell_type": "code",
   "execution_count": null,
   "metadata": {},
   "outputs": [],
   "source": [
    "# Operadores Lógicos AND, OR\n",
    "idade = 25\n",
    "altura = 1.75\n",
    "\n",
    "if idade >= 18 and altura >= 1.60:\n",
    "    print('Pode bricar na montanha russa!')\n",
    "else: \n",
    "    print('não pode bricar na montanha russa')"
   ]
  },
  {
   "cell_type": "markdown",
   "metadata": {},
   "source": [
    "# Desafio 1 \n",
    "- Receber um número verificar se e par ou impar"
   ]
  },
  {
   "cell_type": "code",
   "execution_count": null,
   "metadata": {},
   "outputs": [],
   "source": [
    "\n",
    "numero = input(\"Digite um número\")\n",
    "numero = int(numero)\n",
    "\n",
    "# Verifica se o resto da divisão do número por 2 é igual a 0 (par, impar)\n",
    "if numero % 2 == 0:\n",
    "    print(f'Numero: {numero} é par!')\n",
    "else:\n",
    "    print(f'Numero: {numero} e impar!')"
   ]
  },
  {
   "cell_type": "markdown",
   "metadata": {},
   "source": [
    "## Desafio 2\n",
    "- Um elevador de carga pessoal possui a capacidade de 200K.\n",
    "- Crie um programa que receba do usuário o peso do usuario é o peso da carga, verifique se a carga esta autorizada a usar o elevador ou não."
   ]
  },
  {
   "cell_type": "code",
   "execution_count": null,
   "metadata": {},
   "outputs": [],
   "source": [
    "carga = input('Digite o peso da carga: ')\n",
    "carga = float(carga)\n",
    "\n",
    "usuario = input('Digite o peso usuário: ')\n",
    "usuario = float(usuario)\n",
    "\n",
    "peso = carga + usuario\n",
    "capacidade = 200\n",
    "\n",
    "if peso <= capacidade :\n",
    "    print(f'Carga autorizada! Peso: {peso}')\n",
    " \n",
    "else :\n",
    "    print(f'Carga não autorizada, Elevador excedeu o peso máximo de 200 Kilos!\\nPeso Atual: {peso}')"
   ]
  },
  {
   "cell_type": "code",
   "execution_count": null,
   "metadata": {},
   "outputs": [],
   "source": [
    "# ELIF \n",
    "nome = 'Beltrano'\n",
    "nota = 9\n",
    "\n",
    "if nota >= 7:\n",
    "    print(f'{nome}, você está de aprovado. Nota: {nota}')\n",
    "elif nota >= 5:\n",
    "    print(f'{nome}, você está de recuperação. Nota: {nota}')\n",
    "else:\n",
    "    print(f'{nome}, você está reprovado. Nota: {nota}')"
   ]
  },
  {
   "cell_type": "markdown",
   "metadata": {},
   "source": [
    "# Desafio 03\n",
    "- Crie um sistema para coletar os dados do aluno, (nome, idade cpf), em seguida solicite as notas dos 4 bimestres da disciplina de Python que o aluno teve para verificar a MEDIA\n",
    "  - Media para aprovação >= 7\n",
    "  - Media para recuperação >= 5\n",
    "  - Media para reprovação < 5\n",
    "\n",
    "- Para retirar o boletim de notas, o aluno precisa ser maior de idade(18) e caso não seja, somente os pais podem retirar o Boletim.\n",
    "    - Imprima as informações do aluno.\n",
    "    - Imprima as notas do aluno.\n",
    "    - Imprima a situação do aluno (aprovado, recuperado ou reprovado).\n",
    "    - imprima se o boletim sera retirado pelos pais ou pelo própio aluno."
   ]
  },
  {
   "cell_type": "code",
   "execution_count": 38,
   "metadata": {},
   "outputs": [
    {
     "name": "stdout",
     "output_type": "stream",
     "text": [
      "- - - - - - - - - - - - - - - - - - - - - - - - - - - - - -  Boletim do aluno - - - - - - - - - - - - - - - - - - - - - - - - - - - - - - \n",
      "\n",
      "Obs: Aluno poderá retirar Boletim \n",
      "\n",
      "Nome do aluno: rafael\n",
      "CPF: 25468525\n",
      "Idade: 29\n",
      "Notas: 9.0, 10.0, 8.0, 10.0\n",
      "Média: 9.25\n",
      "Situação: aprovado\n"
     ]
    }
   ],
   "source": [
    "print(30*\"- \", \"Boletim do aluno\", 30*\"- \")\n",
    "\n",
    "nome = input(\"\\nDigite o nome do aluno: \").upper()\n",
    "\n",
    "idade = input(\"Digite a idade do aluno: \")\n",
    "idade = int(idade)\n",
    "\n",
    "cpf = input(\"Digite o CPF do aluno: \")\n",
    "cpf = int(cpf)\n",
    "\n",
    "nota1 = input(\"Digite a nota de Python do primeiro bimestre: \")\n",
    "nota1 = float(nota1)\n",
    "\n",
    "nota2 = input(\"Digite a nota de Python do segundo bimestre: \")\n",
    "nota2 = float(nota2)\n",
    "\n",
    "nota3 = input(\"Digite a nota de Python do terceiro bimestre: \")\n",
    "nota3 = float(nota3)\n",
    "\n",
    "nota4 = input(\"Digite a nota de Python do quarto bimestre: \")\n",
    "nota4 = float(nota4)\n",
    "\n",
    "media = (nota1 + nota2 + nota3 + nota4) / 4\n",
    "\n",
    "\n",
    "# Situação, quem pode retirar o boletim \n",
    "\n",
    "if idade >= 18:\n",
    "    print(\"\\nObs: Aluno poderá retirar Boletim \\n\")\n",
    "\n",
    "    # Imprimindo Dados do aluno\n",
    "\n",
    "    print(f\"Nome do aluno: {nome}\\nCPF: {cpf}\\nIdade: {idade}\\nNotas: {nota1}, {nota2}, {nota3}, {nota4}\\nMédia: {media:.2f}\")\n",
    "\n",
    "    # Verificando a situação do aluno(Aprovado, reprovado ou recuperação)  \n",
    "    if media >= 7:\n",
    "        situacao = \"aprovado\"\n",
    "    elif media >= 5:\n",
    "        situacao = \"recuperado\"\n",
    "    else:\n",
    "        situacao = \"reprovado\"\n",
    "        \n",
    "    print(f\"Situação: {situacao}\")\n",
    "\n",
    "    \n",
    "else:\n",
    "    print(\"\\nObs: Boletim só poderá ser retirado pelos pais do aluno.\")\n"
   ]
  }
 ],
 "metadata": {
  "kernelspec": {
   "display_name": ".venv",
   "language": "python",
   "name": "python3"
  },
  "language_info": {
   "codemirror_mode": {
    "name": "ipython",
    "version": 3
   },
   "file_extension": ".py",
   "mimetype": "text/x-python",
   "name": "python",
   "nbconvert_exporter": "python",
   "pygments_lexer": "ipython3",
   "version": "3.12.4"
  }
 },
 "nbformat": 4,
 "nbformat_minor": 2
}
