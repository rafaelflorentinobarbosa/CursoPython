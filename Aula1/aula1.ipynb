{
 "cells": [
  {
   "cell_type": "markdown",
   "metadata": {},
   "source": [
    "# Python Essencial #"
   ]
  },
  {
   "cell_type": "markdown",
   "metadata": {},
   "source": [
    "- Algoritmo\n",
    "- Coemtários\n",
    "- Variável\n",
    "- Estrutura de Eleção\n",
    "- Git\n",
    "- GitHub\n",
    "- Compartilhar Notebook no GitHub"
   ]
  },
  {
   "cell_type": "markdown",
   "metadata": {},
   "source": [
    "### CAP.1 - Algoritmo para Fritar o um Ovo ###\n",
    "##### Introdução #####\n",
    "###### Paso a Passo para realizar uma determindada tarefa ######\n",
    " O algoritmo é uma sequencia para realizar um determinado tarefa. Por exemplo, fritar um ovo. Quais são os passos para fritar um ovo:\n",
    "\n",
    " Passo 1: Pegar o ovo na geladeira\n",
    " Passo 2: Pegar a frigideira\n",
    " Passo 3: Colocar a frigideira no fogão\n",
    " Passo 4: Ligar o fogo\n",
    " Passo 5: Pegar manteiga\n",
    " passo 6: Colocar a manteiga na frigideira.\n",
    " passo 7: Quebra o ovo na frigideira\n",
    " passo 8: Colocar o sal\n",
    " passo 9: Esperar o ovo fritar\n",
    " passo 10: Comer o ovo\n"
   ]
  }
 ],
 "metadata": {
  "language_info": {
   "name": "python"
  }
 },
 "nbformat": 4,
 "nbformat_minor": 2
}
