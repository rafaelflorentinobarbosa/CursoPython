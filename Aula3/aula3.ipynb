{
 "cells": [
  {
   "cell_type": "markdown",
   "metadata": {},
   "source": [
    "# Aula 3\n",
    "## Declaração de variável\n",
    "    - Como declaro uma variavel? \n",
    "    - Como converter o tipo de uma variável.\n",
    "    - Como restringir uma variavel.\n",
    "\n",
    "## Concatenação\n",
    "    - Qual a exceção usando para a concatenação + (não concatena numeros inteiros)\n",
    "\n",
    "## Algoritmo\n",
    "    - Sequência lógica de instruções para resolver um problema específico\n",
    "    \n",
    "## Declaração de variável\n",
    "nome = 'Karython'\n",
    "\n",
    "## Convertendo o tipo\n",
    "valor = 15 \n",
    "valor = srt(valor)\n",
    "\n",
    "## Restringir dados\n",
    "idade = int(input(\"Digite sua idade\"))\n",
    "\n",
    "\n"
   ]
  },
  {
   "cell_type": "markdown",
   "metadata": {},
   "source": [
    "# Comando GIT\n",
    "\n",
    "### git init\n",
    "    - iniciar um novo repositório\n",
    "### git status\n",
    "    - verificar o estado do repositório, verifica o estado pra ser feito o commit\n",
    "### git add .\n",
    "    - adicionar as atualizações para ser feito o commit (crie o arquivo .ignore)\n",
    "### git commit -m \"Identificação do comite\"\n",
    "    - Comita as informações, salva uma versão locas\n",
    "    "
   ]
  },
  {
   "cell_type": "markdown",
   "metadata": {},
   "source": [
    "# Operadores\n",
    "\n",
    "    Soma\n",
    "    Subtração\n",
    "    divisão\n",
    "    multiplicação\n",
    " "
   ]
  },
  {
   "cell_type": "code",
   "execution_count": 7,
   "metadata": {},
   "outputs": [
    {
     "name": "stdout",
     "output_type": "stream",
     "text": [
      "Usando \"+\" como concatenação: 1010\n",
      "Usando \"+\" como soma: 20\n",
      "\n",
      "Resultado da soma é:  30\n",
      "\n",
      "Resultado da subtração: -10\n",
      "\n",
      "Resultado da multiplicação: 200\n",
      "\n",
      "Resultado da Divisão: 0.5\n"
     ]
    }
   ],
   "source": [
    "# Soma \n",
    "soma = 10 + 10\n",
    "print('Usando \"+\" como concatenação: 10' + '10')\n",
    "print('Usando \"+\" como soma:', 10 + 10)\n",
    "\n",
    "num1 = 10\n",
    "num2 = 20\n",
    "\n",
    "soma = num1 + num2\n",
    "print('\\nResultado da soma é: ', soma)\n",
    "\n",
    "# Subtração \n",
    "subtracao = num1  - num2\n",
    "print(f'\\nResultado da subtração: {subtracao}')\n",
    "\n",
    "# Multiplicação\n",
    "multiplicacao = num1 * num2\n",
    "print(f'\\nResultado da multiplicação: {multiplicacao}')\n",
    "\n",
    "# Divisão\n",
    "divisao = num1 / num2\n",
    "print(f'\\nResultado da Divisão: {divisao}')"
   ]
  },
  {
   "cell_type": "markdown",
   "metadata": {},
   "source": [
    "## Atividade\n",
    "\n",
    "- Declare 2 variáveis, cada uma com valor, e some os resultados concatendados a um texto.\n",
    "\n",
    "- Crie um sistema onde o usuário irá inserir dois valores inteiros, guarde cada valor em variáveis, em seguida vocês irão realizar as 4 operações básicas da matematica (+,-,*,/) e mostrar esses resutados na tela, tambem concatenados a um texto indicativo de cada operação.\n",
    "\n",
    "- Crie um sistema que receba o nome do usuário, a idade so podendo aceitar número inteiro, em seguida mostre o nome e idade do usuário e peça que ele digite 2 números para que sejam somados. Mostrar por úlrimo a soma realizada para o usuário."
   ]
  },
  {
   "cell_type": "code",
   "execution_count": 2,
   "metadata": {},
   "outputs": [
    {
     "name": "stdout",
     "output_type": "stream",
     "text": [
      "Agua mole e pedra dura, tanto bate até que.\n"
     ]
    }
   ],
   "source": [
    "# Exercicio 01\n",
    "\n",
    "texto1 = \"Agua mole e pedra dura,\"\n",
    "texto2 = \" tanto bate até que.\"\n",
    "\n",
    "print(texto1+texto2)\n"
   ]
  },
  {
   "cell_type": "code",
   "execution_count": 6,
   "metadata": {},
   "outputs": [
    {
     "name": "stdout",
     "output_type": "stream",
     "text": [
      "\n",
      "O resultado da soma de 20 + 30 e: 50 \n",
      "\n",
      "O resultado da subtracao de 20 + 30 e: -10 \n",
      "\n",
      "O resultado da multilicacao de 20 + 30 e: 600 \n",
      "\n",
      "O resultado da divisao de 20 + 30 e: 600 \n",
      "\n",
      "\n",
      "Soma: 50 \n",
      "Subtracao: -10 \n",
      "Multiplicacao: 600 \n",
      "Divisao: 600\n"
     ]
    }
   ],
   "source": [
    "# Exercicio 02\n",
    "\n",
    "num1 = int(input(\"Digite o primeiro numero: \"))\n",
    "num2 = int(input(\"Digite o segundo numero: \"))\n",
    "\n",
    "soma = num1 + num2\n",
    "subtracao = num1 - num2\n",
    "multiplicacao = num1 * num2\n",
    "divisao = num1 * num2\n",
    "\n",
    "print(f\"\\nO resultado da soma de {num1} + {num2} e: {soma} \")\n",
    "print(f\"\\nO resultado da subtracao de {num1} + {num2} e: {subtracao} \")\n",
    "print(f\"\\nO resultado da multilicacao de {num1} + {num2} e: {multiplicacao} \")\n",
    "print(f\"\\nO resultado da divisao de {num1} + {num2} e: {divisao} \")\n",
    "\n",
    "print(f\"\\n\\nSoma: {soma} \\nSubtracao: {subtracao} \\nMultiplicacao: {multiplicacao} \\nDivisao: {divisao}\")\n"
   ]
  },
  {
   "cell_type": "code",
   "execution_count": 1,
   "metadata": {},
   "outputs": [],
   "source": [
    "# Exercicio 3\n",
    "\n",
    "nome = input(\"Digite o seu nome: \")\n",
    "idade = int(input(\"Digite a sua idade: \"))\n",
    "print(f\"Nome: {nome} \\nidade: {idade}\")\n",
    "\n",
    "numero1 = int(input(\"\\nDigite o primeiro numero para ser somado\"))\n",
    "numero2 = int(input(\"\\nDigite o segundo numero para ser somado\"))\n",
    "print(\"Resultado da soma: \",numero1+numero2)"
   ]
  }
 ],
 "metadata": {
  "kernelspec": {
   "display_name": ".venv",
   "language": "python",
   "name": "python3"
  },
  "language_info": {
   "codemirror_mode": {
    "name": "ipython",
    "version": 3
   },
   "file_extension": ".py",
   "mimetype": "text/x-python",
   "name": "python",
   "nbconvert_exporter": "python",
   "pygments_lexer": "ipython3",
   "version": "3.12.4"
  }
 },
 "nbformat": 4,
 "nbformat_minor": 2
}
