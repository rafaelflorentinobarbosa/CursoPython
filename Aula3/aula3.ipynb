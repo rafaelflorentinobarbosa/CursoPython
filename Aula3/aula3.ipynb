{
 "cells": [
  {
   "cell_type": "markdown",
   "metadata": {},
   "source": [
    "- Declaração de variável\n",
    "    - Como declaro uma variavel? \n",
    "    - Como converter o tipo de uma variável.\n",
    "    - Como restringir uma variavel.\n",
    "-Concatenação\n",
    "    - Qual a expressão usada para concatenação com números inteiros\n",
    "-Algoritmo\n",
    "    - Sequencia lógica de instruções para resolver um problema específico\n",
    "\n",
    "# Declaração de variável\n",
    "nome = 'Karython'\n",
    "\n",
    "# Convertendo o tipo\n",
    "valor = 15 \n",
    "valor = srt(valor)\n",
    "\n",
    "# Restringir dados\n",
    "idade = int(input(\"Digite sua idade\"))\n",
    "\n",
    "- Comando GIT\n",
    "\n",
    "# git init\n",
    "    - iniciar um novo repositorio\n",
    "# git status\n",
    "    - verificar o estado do repositorio-verifica o estado pra ser feito o commit\n",
    "# git add\n",
    "    - adicionar as atualizacoes para ser feito o commit\n",
    "# git commit -m"
   ]
  }
 ],
 "metadata": {
  "language_info": {
   "name": "python"
  }
 },
 "nbformat": 4,
 "nbformat_minor": 2
}
